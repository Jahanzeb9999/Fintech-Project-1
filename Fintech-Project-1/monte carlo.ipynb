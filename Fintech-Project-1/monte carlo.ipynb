{
 "cells": [
  {
   "cell_type": "code",
   "execution_count": 2,
   "id": "820444ee",
   "metadata": {},
   "outputs": [
    {
     "ename": "ModuleNotFoundError",
     "evalue": "No module named 'MCForecastTools'",
     "output_type": "error",
     "traceback": [
      "\u001b[0;31m---------------------------------------------------------------------------\u001b[0m",
      "\u001b[0;31mModuleNotFoundError\u001b[0m                       Traceback (most recent call last)",
      "\u001b[0;32m/var/folders/_k/vh0xs36d1zbf8670kc8c6nww0000gn/T/ipykernel_13026/676441751.py\u001b[0m in \u001b[0;36m<module>\u001b[0;34m\u001b[0m\n\u001b[1;32m      9\u001b[0m \u001b[0;32mfrom\u001b[0m \u001b[0mpathlib\u001b[0m \u001b[0;32mimport\u001b[0m \u001b[0mPath\u001b[0m\u001b[0;34m\u001b[0m\u001b[0;34m\u001b[0m\u001b[0m\n\u001b[1;32m     10\u001b[0m \u001b[0;32mimport\u001b[0m \u001b[0malpaca_trade_api\u001b[0m \u001b[0;32mas\u001b[0m \u001b[0mtradeapi\u001b[0m\u001b[0;34m\u001b[0m\u001b[0;34m\u001b[0m\u001b[0m\n\u001b[0;32m---> 11\u001b[0;31m \u001b[0;32mfrom\u001b[0m \u001b[0mMCForecastTools\u001b[0m \u001b[0;32mimport\u001b[0m \u001b[0mMCSimulation\u001b[0m\u001b[0;34m\u001b[0m\u001b[0;34m\u001b[0m\u001b[0m\n\u001b[0m",
      "\u001b[0;31mModuleNotFoundError\u001b[0m: No module named 'MCForecastTools'"
     ]
    }
   ],
   "source": [
    "# Import libraries and dependencies\n",
    "import numpy as np\n",
    "import pandas as pd\n",
    "from datetime import datetime, timedelta\n",
    "import matplotlib.pyplot as plt\n",
    "%matplotlib inline\n",
    "import os\n",
    "import seaborn as sns\n",
    "from pathlib import Path\n",
    "import alpaca_trade_api as tradeapi\n",
    "from dotenv import load_dotenv\n",
    "from MCForecastTools import MCSimulation "
   ]
  },
  {
   "cell_type": "code",
   "execution_count": 3,
   "id": "67a2cacd",
   "metadata": {},
   "outputs": [
    {
     "data": {
      "text/plain": [
       "True"
      ]
     },
     "execution_count": 3,
     "metadata": {},
     "output_type": "execute_result"
    }
   ],
   "source": [
    "load_dotenv()"
   ]
  },
  {
   "cell_type": "code",
   "execution_count": 4,
   "id": "95f749ce",
   "metadata": {},
   "outputs": [
    {
     "ename": "ModuleNotFoundError",
     "evalue": "No module named 'MCForecastTools'",
     "output_type": "error",
     "traceback": [
      "\u001b[0;31m---------------------------------------------------------------------------\u001b[0m",
      "\u001b[0;31mModuleNotFoundError\u001b[0m                       Traceback (most recent call last)",
      "\u001b[0;32m/var/folders/_k/vh0xs36d1zbf8670kc8c6nww0000gn/T/ipykernel_13026/2049971796.py\u001b[0m in \u001b[0;36m<module>\u001b[0;34m\u001b[0m\n\u001b[0;32m----> 1\u001b[0;31m \u001b[0;32mfrom\u001b[0m \u001b[0mMCForecastTools\u001b[0m \u001b[0;32mimport\u001b[0m \u001b[0mMCSimulation\u001b[0m\u001b[0;34m\u001b[0m\u001b[0;34m\u001b[0m\u001b[0m\n\u001b[0m",
      "\u001b[0;31mModuleNotFoundError\u001b[0m: No module named 'MCForecastTools'"
     ]
    }
   ],
   "source": [
    "from MCForecastTools import MCSimulation "
   ]
  },
  {
   "cell_type": "code",
   "execution_count": null,
   "id": "2484e76b",
   "metadata": {},
   "outputs": [],
   "source": [
    "Td_data = pd.read_csv(\"Stock Data - TSE_TD.csv\", index_col=\"Date\")\n",
    "Bmo_data = pd.read_csv(\"Stock Data - TSE_BMO (1).csv\",index_col=\"Date\")\n",
    "RY_data = pd.read_csv(\"Stock Data - TSE_RY (1).csv\", index_col=\"Date\")\n",
    "BNS_data = pd.read_csv(\"Stock Data - TSE_BNS (2).csv\", index_col=\"Date\")\n",
    "SP500_data = pd.read_csv(\"Stock Data - S&P 500 (1).csv\",index_col=\"Date\")"
   ]
  },
  {
   "cell_type": "code",
   "execution_count": null,
   "id": "dadac8f3",
   "metadata": {},
   "outputs": [],
   "source": [
    "Td_data.rename(columns = {'Close':'TD_close'}, inplace = True)\n",
    "Bmo_data.rename(columns = {'Close':'BMO_close'}, inplace = True)\n",
    "RY_data.rename(columns = {'Close':'RY_close'}, inplace = True)\n",
    "BNS_data.rename(columns = {'Close':'BNS_close'}, inplace = True)\n",
    "SP500_data.rename(columns = {'Close':'SP500_close'}, inplace = True)"
   ]
  },
  {
   "cell_type": "code",
   "execution_count": null,
   "id": "7b06cebd",
   "metadata": {},
   "outputs": [],
   "source": [
    "SP500_data.plot()"
   ]
  },
  {
   "cell_type": "code",
   "execution_count": null,
   "id": "755891f3",
   "metadata": {},
   "outputs": [],
   "source": [
    "Stock_concat = pd.concat([Td_data, Bmo_data, RY_data, BNS_data, SP500_data], axis=1, join=\"inner\", keys=[\"TD\", \"BMO\", \"RY\", \"BNS\", \"S&P 500\"]).dropna().reset_index()\n",
    "\n",
    "# Sort datetime index in ascending order (past to present)\n",
    "Stock_concat = Stock_concat.sort_index()\n",
    "\n",
    "# Display a few rows\n",
    "Stock_concat.head()"
   ]
  },
  {
   "cell_type": "code",
   "execution_count": null,
   "id": "db0d1b4a",
   "metadata": {},
   "outputs": [],
   "source": [
    "type(Stock_concat[\"Date\"])\n",
    "\n",
    "Stock_concat[\"Date\"] = pd.to_datetime(Stock_concat[\"Date\"])\n",
    "Stock_concat"
   ]
  },
  {
   "cell_type": "code",
   "execution_count": null,
   "id": "73a9cbbe",
   "metadata": {},
   "outputs": [],
   "source": [
    "Stock_concat.set_index(\"Date\", inplace=True)\n",
    "Stock_concat.index = Stock_concat.index.date\n",
    "Stock_concat"
   ]
  },
  {
   "cell_type": "code",
   "execution_count": null,
   "id": "7fd25f81",
   "metadata": {},
   "outputs": [],
   "source": [
    "Stock_concat.describe()"
   ]
  },
  {
   "cell_type": "code",
   "execution_count": null,
   "id": "33ac85a0",
   "metadata": {},
   "outputs": [],
   "source": [
    "Stock_concat.info()"
   ]
  },
  {
   "cell_type": "code",
   "execution_count": null,
   "id": "574f6c47",
   "metadata": {},
   "outputs": [],
   "source": [
    "## Evaluate the Riskiness of Stocks"
   ]
  },
  {
   "cell_type": "code",
   "execution_count": null,
   "id": "6e5da347",
   "metadata": {},
   "outputs": [],
   "source": [
    "volatility = Stock_concat.std() * np.sqrt(252)"
   ]
  },
  {
   "cell_type": "code",
   "execution_count": null,
   "id": "ffcab060",
   "metadata": {},
   "outputs": [],
   "source": [
    "volatility = volatility.sort_values()\n",
    "volatility"
   ]
  },
  {
   "cell_type": "code",
   "execution_count": null,
   "id": "951a83e4",
   "metadata": {},
   "outputs": [],
   "source": [
    "daily_returns = Stock_concat.pct_change().dropna()\n",
    "daily_returns"
   ]
  },
  {
   "cell_type": "code",
   "execution_count": null,
   "id": "89cbeef4",
   "metadata": {},
   "outputs": [],
   "source": [
    "Stock_concat.isnull().mean() * 100"
   ]
  },
  {
   "cell_type": "code",
   "execution_count": null,
   "id": "ee2dd9fa",
   "metadata": {},
   "outputs": [],
   "source": [
    "Stock_concat.isnull().sum()"
   ]
  },
  {
   "cell_type": "code",
   "execution_count": null,
   "id": "9602c926",
   "metadata": {},
   "outputs": [],
   "source": [
    "correlation = daily_returns.corr()\n",
    "correlation"
   ]
  },
  {
   "cell_type": "code",
   "execution_count": null,
   "id": "550d4071",
   "metadata": {},
   "outputs": [],
   "source": [
    "# Create a heatmap from the correlation values and adjust the scale\n",
    "sns.heatmap(correlation, vmin=-1, vmax=1) "
   ]
  },
  {
   "cell_type": "code",
   "execution_count": null,
   "id": "29e927fd",
   "metadata": {},
   "outputs": [],
   "source": [
    "Stock_concat.plot()"
   ]
  },
  {
   "cell_type": "code",
   "execution_count": null,
   "id": "8757be2d",
   "metadata": {},
   "outputs": [],
   "source": [
    "Stock_concat[\"TD\"].plot()"
   ]
  },
  {
   "cell_type": "code",
   "execution_count": null,
   "id": "ca3918f6",
   "metadata": {},
   "outputs": [],
   "source": [
    "Stock_concat[\"BMO\"].plot()"
   ]
  },
  {
   "cell_type": "code",
   "execution_count": null,
   "id": "a451d0fd",
   "metadata": {},
   "outputs": [],
   "source": [
    "Stock_concat[\"RY\"].plot()"
   ]
  },
  {
   "cell_type": "code",
   "execution_count": null,
   "id": "82e10fa3",
   "metadata": {},
   "outputs": [],
   "source": [
    "Stock_concat[\"BNS\"].plot()"
   ]
  },
  {
   "cell_type": "code",
   "execution_count": null,
   "id": "a65fd371",
   "metadata": {},
   "outputs": [],
   "source": [
    "Stock_concat[\"S&P 500\"].plot()"
   ]
  },
  {
   "cell_type": "code",
   "execution_count": null,
   "id": "180121ed",
   "metadata": {},
   "outputs": [],
   "source": [
    "sma20 = Stock_concat.rolling(window=20).mean()\n",
    "sma20.dropna()"
   ]
  },
  {
   "cell_type": "code",
   "execution_count": null,
   "id": "6de8f956",
   "metadata": {},
   "outputs": [],
   "source": [
    "sma50 = Stock_concat.rolling(window=50).mean()\n",
    "sma50.dropna()"
   ]
  },
  {
   "cell_type": "code",
   "execution_count": null,
   "id": "d9255211",
   "metadata": {},
   "outputs": [],
   "source": [
    "sma100 = Stock_concat.rolling(window=100).mean()\n",
    "sma100.dropna()"
   ]
  },
  {
   "cell_type": "code",
   "execution_count": null,
   "id": "26784f15",
   "metadata": {},
   "outputs": [],
   "source": [
    "# Set figure of the daily closing prices of SHOP\n",
    "ax = Stock_concat.plot(figsize=(25,10))\n",
    "\n",
    "# Overlay SMA20, SMA50, and SMA100 on the same figure\n",
    "sma20.plot(ax=ax)\n",
    "sma50.plot(ax=ax)\n",
    "sma100.plot(ax=ax)\n",
    "\n",
    "# Set the legend of the figure\n",
    "ax.legend([\"Original\", \"SMA20\", \"SMA50\", \"SMA100\"]);"
   ]
  },
  {
   "cell_type": "code",
   "execution_count": null,
   "id": "dc41560b",
   "metadata": {},
   "outputs": [],
   "source": [
    "from MCForecastTools import MCSimulation "
   ]
  },
  {
   "cell_type": "code",
   "execution_count": null,
   "id": "7399c2b8",
   "metadata": {},
   "outputs": [],
   "source": [
    "MCTd_data = pd.read_csv(\"Stock Data - NYSE_TD.csv\", infer_datetime_format=True, parse_dates=True, index_col=\"Date\")\n",
    "MCBmo_data = pd.read_csv(\"Stock Data - TSE_BMO.csv\",infer_datetime_format=True, parse_dates=True, index_col=\"Date\")\n",
    "MCRY_data = pd.read_csv(\"Stock Data - TSE_RY.csv\",  infer_datetime_format=True, parse_dates=True, index_col=\"Date\")\n",
    "MCBNS_data = pd.read_csv(\"Stock Data - TSE_BNS.csv\",  infer_datetime_format=True, parse_dates=True, index_col=\"Date\")\n",
    "MCSP500_data = pd.read_csv(\"Stock Data - S&P 500.csv\",  infer_datetime_format=True, parse_dates=True, index_col=\"Date\")"
   ]
  },
  {
   "cell_type": "code",
   "execution_count": null,
   "id": "2e5a28a5",
   "metadata": {},
   "outputs": [],
   "source": [
    "MCStock_concat = pd.concat([MCTd_data, MCBmo_data, MCRY_data, MCBNS_data, MCSP500_data], axis=1, join=\"inner\", keys=[\"BMO\", \"TD\", \"BNS\", \"RY\", \"S&P 500\"]).reset_index()\n",
    "MCStock_concat"
   ]
  },
  {
   "cell_type": "code",
   "execution_count": null,
   "id": "e0a68960",
   "metadata": {},
   "outputs": [],
   "source": [
    "MCStock_concat[\"Date\"] = pd.to_datetime(MCStock_concat[\"Date\"])\n",
    "MCStock_concat"
   ]
  },
  {
   "cell_type": "code",
   "execution_count": null,
   "id": "e355b908",
   "metadata": {},
   "outputs": [],
   "source": [
    "MCStock_concat.set_index(\"Date\", inplace=True)\n",
    "MCStock_concat.index = MCStock_concat.index.date\n",
    "MCStock_concat.rename(columns={\"Close\": \"close\"}, inplace=True)"
   ]
  },
  {
   "cell_type": "code",
   "execution_count": null,
   "id": "b7e9f81c",
   "metadata": {},
   "outputs": [],
   "source": [
    "MC_even_dist = MCSimulation(\n",
    "    portfolio_data = MCStock_concat,\n",
    "    weights = [.20,.20,.20, .20, .20],\n",
    "    num_simulation = 1000,\n",
    "    num_trading_days = 252*5\n",
    ")\n",
    "\n",
    "MC_even_dist.portfolio_data.head()"
   ]
  },
  {
   "cell_type": "code",
   "execution_count": null,
   "id": "37ca8dd2",
   "metadata": {},
   "outputs": [],
   "source": [
    "daily_returns = df_ticker.pct_change().dropna()\n",
    "daily_returns"
   ]
  },
  {
   "cell_type": "code",
   "execution_count": null,
   "id": "8b261190",
   "metadata": {},
   "outputs": [],
   "source": [
    " # Calculate covariance of all daily returns of social media stocks vs. S&P 500\n",
    "BMO_covariance = daily_returns[\"BMO\"].cov(daily_returns[\"S&P 500\"])\n",
    "TD_covariance = daily_returns[\"TD\"].cov(daily_returns[\"S&P 500\"])\n",
    "BNS_covariance = daily_returns[\"BNS\"].cov(daily_returns[\"S&P 500\"])"
   ]
  },
  {
   "cell_type": "code",
   "execution_count": null,
   "id": "56390533",
   "metadata": {},
   "outputs": [],
   "source": [
    "MC_even_dist.calc_cumulative_return()"
   ]
  },
  {
   "cell_type": "code",
   "execution_count": null,
   "id": "263ff6ad",
   "metadata": {},
   "outputs": [],
   "source": [
    "line_plot = MC_even_dist.plot_simulation()"
   ]
  },
  {
   "cell_type": "code",
   "execution_count": null,
   "id": "1b50824b",
   "metadata": {},
   "outputs": [],
   "source": [
    "dist_plot = MC_even_dist.plot_distribution()"
   ]
  },
  {
   "cell_type": "code",
   "execution_count": null,
   "id": "bd37d87e",
   "metadata": {},
   "outputs": [],
   "source": [
    "MC_sum = MC_even_dist.summarize_cumulative_return()\n",
    "MC_sum"
   ]
  }
 ],
 "metadata": {
  "kernelspec": {
   "display_name": "Python [conda env:alpacaenv]",
   "language": "python",
   "name": "conda-env-alpacaenv-py"
  },
  "language_info": {
   "codemirror_mode": {
    "name": "ipython",
    "version": 3
   },
   "file_extension": ".py",
   "mimetype": "text/x-python",
   "name": "python",
   "nbconvert_exporter": "python",
   "pygments_lexer": "ipython3",
   "version": "3.7.11"
  }
 },
 "nbformat": 4,
 "nbformat_minor": 5
}
